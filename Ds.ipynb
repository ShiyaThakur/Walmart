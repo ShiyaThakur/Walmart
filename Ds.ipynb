{
 "cells": [
  {
   "cell_type": "code",
   "execution_count": 21,
   "metadata": {},
   "outputs": [],
   "source": [
    "import pandas as pd\n",
    "import numpy as np\n"
   ]
  },
  {
   "cell_type": "code",
   "execution_count": 22,
   "metadata": {},
   "outputs": [
    {
     "name": "stdout",
     "output_type": "stream",
     "text": [
      "   order_id        lng       lat  depot_lat  depot_lng\n",
      "0   2349221  126.55716  43.81811    43.8121   126.5669\n",
      "1   1720666  126.54845  43.82043    43.8121   126.5669\n",
      "2    935442  126.56893  43.81414    43.8121   126.5669\n",
      "3   2119726  126.57000  43.81954    43.8121   126.5669\n",
      "4   1898768  126.56574  43.82126    43.8121   126.5669\n"
     ]
    }
   ],
   "source": [
    "data = pd.read_csv('part_a_input_dataset_1.csv')\n",
    "print(data.head())"
   ]
  },
  {
   "cell_type": "code",
   "execution_count": 23,
   "metadata": {},
   "outputs": [],
   "source": [
    "from geopy.distance import geodesic"
   ]
  },
  {
   "cell_type": "code",
   "execution_count": 24,
   "metadata": {},
   "outputs": [],
   "source": [
    "import pandas as pd\n",
    "import numpy as np\n",
    "import networkx as nx\n",
    "from itertools import permutations\n",
    "\n",
    "def haversine(lat1, lon1, lat2, lon2):\n",
    "    R = 6371  \n",
    "    phi1 = np.radians(lat1)\n",
    "    phi2 = np.radians(lat2)\n",
    "    delta_phi = np.radians(lat2 - lat1)\n",
    "    delta_lambda = np.radians(lon2 - lon1)\n",
    "    a = np.sin(delta_phi/2)**2 + np.cos(phi1) * np.cos(phi2) * np.sin(delta_lambda/2)**2\n",
    "    res = R * (2 * np.arctan2(np.sqrt(a), np.sqrt(1 - a)))\n",
    "    return np.round(res, 2)\n",
    "\n",
    "def find_shortest_route(filename):\n",
    "   \n",
    "    data = pd.read_csv(filename)\n",
    "\n",
    "    \n",
    "    G = nx.Graph()\n",
    "\n",
    "   \n",
    "    depot = (data['depot_lat'].iloc[0], data['depot_lng'].iloc[0])\n",
    "    G.add_node('Depot', pos=depot)\n",
    "\n",
    "   \n",
    "    for i, customer in data.iterrows():\n",
    "        customer_pos = (customer['lat'], customer['lng'])\n",
    "        G.add_node(customer['order_id'], pos=customer_pos)\n",
    "        G.add_edge('Depot', customer['order_id'], weight=haversine(depot[0], depot[1], customer_pos[0], customer_pos[1]))\n",
    "\n",
    "        for j, other_customer in data.iterrows():\n",
    "            if i != j:\n",
    "                other_customer_pos = (other_customer['lat'], other_customer['lng'])\n",
    "                G.add_edge(customer['order_id'], other_customer['order_id'], weight=haversine(customer_pos[0], customer_pos[1], other_customer_pos[0], other_customer_pos[1]))\n",
    "\n",
    "    \n",
    "    shortest_distance = float('inf')\n",
    "    shortest_route = None\n",
    "    for perm in permutations(data['order_id']):\n",
    "        total_distance = 0\n",
    "        current_node = 'Depot'\n",
    "        for node in perm:\n",
    "            total_distance += G[current_node][node]['weight']\n",
    "            current_node = node\n",
    "        total_distance += G[current_node]['Depot']['weight']  # Return to depot\n",
    "        if total_distance < shortest_distance:\n",
    "            shortest_distance = total_distance\n",
    "            shortest_route = perm\n",
    "\n",
    "    \n",
    "    delivery_sequence = {node: i+1 for i, node in enumerate(shortest_route)}\n",
    "    data['dlvr_seq_num'] = data['order_id'].map(delivery_sequence)\n",
    "\n",
    "\n",
    "    print(\"Shortest Route for\", filename, \":\", shortest_route)\n",
    "    print(\"Total Distance Travelled for\", filename, \":\", shortest_distance, \"kilometers\")\n",
    "    print(\"Dataset with Delivery Sequence Number for\", filename, \":\")\n",
    "    print(data)\n",
    "\n",
    "\n",
    "\n"
   ]
  },
  {
   "cell_type": "code",
   "execution_count": 26,
   "metadata": {},
   "outputs": [
    {
     "name": "stdout",
     "output_type": "stream",
     "text": [
      "Shortest Route for part_a_input_dataset_1.csv : (2349221, 1720666, 1898768, 2119726, 935442)\n",
      "Total Distance Travelled for part_a_input_dataset_1.csv : 4.44 kilometers\n",
      "Dataset with Delivery Sequence Number for part_a_input_dataset_1.csv :\n",
      "   order_id        lng       lat  depot_lat  depot_lng  dlvr_seq_num\n",
      "0   2349221  126.55716  43.81811    43.8121   126.5669             1\n",
      "1   1720666  126.54845  43.82043    43.8121   126.5669             2\n",
      "2    935442  126.56893  43.81414    43.8121   126.5669             5\n",
      "3   2119726  126.57000  43.81954    43.8121   126.5669             4\n",
      "4   1898768  126.56574  43.82126    43.8121   126.5669             3\n"
     ]
    }
   ],
   "source": [
    "find_shortest_route('part_a_input_dataset_1.csv')"
   ]
  },
  {
   "cell_type": "code",
   "execution_count": 27,
   "metadata": {},
   "outputs": [
    {
     "name": "stdout",
     "output_type": "stream",
     "text": [
      "Shortest Route for part_a_input_dataset_2.csv : (2349221, 2977295, 1720666, 98750, 1967889, 1898768, 1163945, 512980, 2119726, 935442)\n",
      "Total Distance Travelled for part_a_input_dataset_2.csv : 9.909999999999998 kilometers\n",
      "Dataset with Delivery Sequence Number for part_a_input_dataset_2.csv :\n",
      "   order_id        lng       lat  depot_lat  depot_lng  dlvr_seq_num\n",
      "0   2349221  126.55716  43.81811    43.8121   126.5669             1\n",
      "1   1720666  126.54845  43.82043    43.8121   126.5669             3\n",
      "2    935442  126.56893  43.81414    43.8121   126.5669            10\n",
      "3   2119726  126.57000  43.81954    43.8121   126.5669             9\n",
      "4   1898768  126.56574  43.82126    43.8121   126.5669             6\n",
      "5   2977295  126.53659  43.80667    43.8121   126.5669             2\n",
      "6     98750  126.55001  43.82377    43.8121   126.5669             4\n",
      "7   1967889  126.56403  43.82447    43.8121   126.5669             5\n",
      "8    512980  126.57915  43.82581    43.8121   126.5669             8\n",
      "9   1163945  126.56808  43.82254    43.8121   126.5669             7\n"
     ]
    }
   ],
   "source": [
    "find_shortest_route('part_a_input_dataset_2.csv')\n"
   ]
  },
  {
   "cell_type": "code",
   "execution_count": 28,
   "metadata": {},
   "outputs": [
    {
     "ename": "KeyboardInterrupt",
     "evalue": "",
     "output_type": "error",
     "traceback": [
      "\u001b[1;31m---------------------------------------------------------------------------\u001b[0m",
      "\u001b[1;31mKeyboardInterrupt\u001b[0m                         Traceback (most recent call last)",
      "Input \u001b[1;32mIn [28]\u001b[0m, in \u001b[0;36m<cell line: 1>\u001b[1;34m()\u001b[0m\n\u001b[1;32m----> 1\u001b[0m \u001b[43mfind_shortest_route\u001b[49m\u001b[43m(\u001b[49m\u001b[38;5;124;43m'\u001b[39;49m\u001b[38;5;124;43mpart_a_input_dataset_3.csv\u001b[39;49m\u001b[38;5;124;43m'\u001b[39;49m\u001b[43m)\u001b[49m\n",
      "Input \u001b[1;32mIn [24]\u001b[0m, in \u001b[0;36mfind_shortest_route\u001b[1;34m(filename)\u001b[0m\n\u001b[0;32m     43\u001b[0m current_node \u001b[38;5;241m=\u001b[39m \u001b[38;5;124m'\u001b[39m\u001b[38;5;124mDepot\u001b[39m\u001b[38;5;124m'\u001b[39m\n\u001b[0;32m     44\u001b[0m \u001b[38;5;28;01mfor\u001b[39;00m node \u001b[38;5;129;01min\u001b[39;00m perm:\n\u001b[1;32m---> 45\u001b[0m     total_distance \u001b[38;5;241m+\u001b[39m\u001b[38;5;241m=\u001b[39m \u001b[43mG\u001b[49m\u001b[43m[\u001b[49m\u001b[43mcurrent_node\u001b[49m\u001b[43m]\u001b[49m\u001b[43m[\u001b[49m\u001b[43mnode\u001b[49m\u001b[43m]\u001b[49m[\u001b[38;5;124m'\u001b[39m\u001b[38;5;124mweight\u001b[39m\u001b[38;5;124m'\u001b[39m]\n\u001b[0;32m     46\u001b[0m     current_node \u001b[38;5;241m=\u001b[39m node\n\u001b[0;32m     47\u001b[0m total_distance \u001b[38;5;241m+\u001b[39m\u001b[38;5;241m=\u001b[39m G[current_node][\u001b[38;5;124m'\u001b[39m\u001b[38;5;124mDepot\u001b[39m\u001b[38;5;124m'\u001b[39m][\u001b[38;5;124m'\u001b[39m\u001b[38;5;124mweight\u001b[39m\u001b[38;5;124m'\u001b[39m]  \u001b[38;5;66;03m# Return to depot\u001b[39;00m\n",
      "File \u001b[1;32mc:\\Users\\Shiya Thakur\\AppData\\Local\\Programs\\Python\\Python310\\lib\\site-packages\\networkx\\classes\\coreviews.py:52\u001b[0m, in \u001b[0;36mAtlasView.__getitem__\u001b[1;34m(self, key)\u001b[0m\n\u001b[0;32m     49\u001b[0m \u001b[38;5;28;01mdef\u001b[39;00m \u001b[38;5;21m__iter__\u001b[39m(\u001b[38;5;28mself\u001b[39m):\n\u001b[0;32m     50\u001b[0m     \u001b[38;5;28;01mreturn\u001b[39;00m \u001b[38;5;28miter\u001b[39m(\u001b[38;5;28mself\u001b[39m\u001b[38;5;241m.\u001b[39m_atlas)\n\u001b[1;32m---> 52\u001b[0m \u001b[38;5;28;01mdef\u001b[39;00m \u001b[38;5;21m__getitem__\u001b[39m(\u001b[38;5;28mself\u001b[39m, key):\n\u001b[0;32m     53\u001b[0m     \u001b[38;5;28;01mreturn\u001b[39;00m \u001b[38;5;28mself\u001b[39m\u001b[38;5;241m.\u001b[39m_atlas[key]\n\u001b[0;32m     55\u001b[0m \u001b[38;5;28;01mdef\u001b[39;00m \u001b[38;5;21mcopy\u001b[39m(\u001b[38;5;28mself\u001b[39m):\n",
      "\u001b[1;31mKeyboardInterrupt\u001b[0m: "
     ]
    }
   ],
   "source": [
    "find_shortest_route('part_a_input_dataset_3.csv')"
   ]
  }
 ],
 "metadata": {
  "kernelspec": {
   "display_name": "Python 3",
   "language": "python",
   "name": "python3"
  },
  "language_info": {
   "codemirror_mode": {
    "name": "ipython",
    "version": 3
   },
   "file_extension": ".py",
   "mimetype": "text/x-python",
   "name": "python",
   "nbconvert_exporter": "python",
   "pygments_lexer": "ipython3",
   "version": "3.10.4"
  }
 },
 "nbformat": 4,
 "nbformat_minor": 2
}
